{
 "cells": [
  {
   "cell_type": "code",
   "execution_count": 13,
   "metadata": {
    "pycharm": {
     "is_executing": false
    }
   },
   "outputs": [],
   "source": [
    "import pandas as pd\n",
    "import pathlib"
   ]
  },
  {
   "cell_type": "code",
   "execution_count": 14,
   "metadata": {
    "pycharm": {
     "is_executing": false,
     "name": "#%%\n"
    }
   },
   "outputs": [],
   "source": [
    "data_folder = pathlib.Path(\"./fixtures\").joinpath(\"data\")"
   ]
  },
  {
   "cell_type": "code",
   "execution_count": 15,
   "metadata": {
    "pycharm": {
     "is_executing": false,
     "name": "#%%\n"
    }
   },
   "outputs": [
    {
     "name": "stdout",
     "output_type": "stream",
     "text": [
      "<class 'pandas.core.frame.DataFrame'>\n",
      "RangeIndex: 877 entries, 0 to 876\n",
      "Data columns (total 2 columns):\n",
      " #   Column       Non-Null Count  Dtype \n",
      "---  ------       --------------  ----- \n",
      " 0   id           877 non-null    int64 \n",
      " 1   description  877 non-null    object\n",
      "dtypes: int64(1), object(1)\n",
      "memory usage: 13.8+ KB\n"
     ]
    }
   ],
   "source": [
    "# products dataset\n",
    "products_df = pd.read_csv(data_folder.joinpath(\"products.csv\"))\n",
    "products_df.info()"
   ]
  },
  {
   "cell_type": "code",
   "execution_count": 16,
   "metadata": {
    "pycharm": {
     "is_executing": false,
     "name": "#%%\n"
    }
   },
   "outputs": [
    {
     "name": "stdout",
     "output_type": "stream",
     "text": [
      "<class 'pandas.core.frame.DataFrame'>\n",
      "RangeIndex: 438 entries, 0 to 437\n",
      "Data columns (total 4 columns):\n",
      " #   Column       Non-Null Count  Dtype \n",
      "---  ------       --------------  ----- \n",
      " 0   id           438 non-null    int64 \n",
      " 1   created_at   438 non-null    object\n",
      " 2   vendor_id    438 non-null    int64 \n",
      " 3   customer_id  438 non-null    int64 \n",
      "dtypes: int64(3), object(1)\n",
      "memory usage: 13.8+ KB\n"
     ]
    }
   ],
   "source": [
    "orders_df = pd.read_csv(data_folder.joinpath(\"orders.csv\"))\n",
    "orders_df.info()"
   ]
  },
  {
   "cell_type": "code",
   "execution_count": 17,
   "metadata": {
    "pycharm": {
     "is_executing": false,
     "name": "#%%\n"
    }
   },
   "outputs": [
    {
     "name": "stdout",
     "output_type": "stream",
     "text": [
      "<class 'pandas.core.frame.DataFrame'>\n",
      "RangeIndex: 5539 entries, 0 to 5538\n",
      "Data columns (total 11 columns):\n",
      " #   Column               Non-Null Count  Dtype  \n",
      "---  ------               --------------  -----  \n",
      " 0   order_id             5539 non-null   int64  \n",
      " 1   product_id           5539 non-null   int64  \n",
      " 2   product_description  5539 non-null   object \n",
      " 3   product_price        5539 non-null   int64  \n",
      " 4   product_vat_rate     5539 non-null   float64\n",
      " 5   discount_rate        5539 non-null   float64\n",
      " 6   quantity             5539 non-null   int64  \n",
      " 7   full_price_amount    5539 non-null   int64  \n",
      " 8   discounted_amount    5539 non-null   float64\n",
      " 9   vat_amount           5539 non-null   float64\n",
      " 10  total_amount         5539 non-null   float64\n",
      "dtypes: float64(5), int64(5), object(1)\n",
      "memory usage: 476.1+ KB\n"
     ]
    }
   ],
   "source": [
    "order_items_df = pd.read_csv(data_folder.joinpath(\"order_lines.csv\"))\n",
    "order_items_df.info()"
   ]
  },
  {
   "cell_type": "code",
   "execution_count": 18,
   "metadata": {
    "pycharm": {
     "is_executing": false,
     "name": "#%%\n"
    }
   },
   "outputs": [
    {
     "name": "stdout",
     "output_type": "stream",
     "text": [
      "<class 'pandas.core.frame.DataFrame'>\n",
      "RangeIndex: 5539 entries, 0 to 5538\n",
      "Data columns (total 15 columns):\n",
      " #   Column               Non-Null Count  Dtype  \n",
      "---  ------               --------------  -----  \n",
      " 0   order_id             5539 non-null   int64  \n",
      " 1   product_id           5539 non-null   int64  \n",
      " 2   product_description  5539 non-null   object \n",
      " 3   product_price        5539 non-null   int64  \n",
      " 4   product_vat_rate     5539 non-null   float64\n",
      " 5   discount_rate        5539 non-null   float64\n",
      " 6   quantity             5539 non-null   int64  \n",
      " 7   full_price_amount    5539 non-null   int64  \n",
      " 8   discounted_amount    5539 non-null   float64\n",
      " 9   vat_amount           5539 non-null   float64\n",
      " 10  total_amount         5539 non-null   float64\n",
      " 11  id                   438 non-null    float64\n",
      " 12  created_at           438 non-null    object \n",
      " 13  vendor_id            438 non-null    float64\n",
      " 14  customer_id          438 non-null    float64\n",
      "dtypes: float64(8), int64(5), object(2)\n",
      "memory usage: 649.2+ KB\n"
     ]
    }
   ],
   "source": [
    "# groupby by day\n",
    "merged_order_and_item = order_items_df.join(\n",
    "    orders_df, lsuffix=\"order_id\", rsuffix=\"id\")\n",
    "merged_order_and_item.info()"
   ]
  },
  {
   "cell_type": "code",
   "execution_count": 19,
   "metadata": {
    "pycharm": {
     "is_executing": false,
     "name": "#%%\n"
    }
   },
   "outputs": [
    {
     "data": {
      "text/html": [
       "<div>\n",
       "<style scoped>\n",
       "    .dataframe tbody tr th:only-of-type {\n",
       "        vertical-align: middle;\n",
       "    }\n",
       "\n",
       "    .dataframe tbody tr th {\n",
       "        vertical-align: top;\n",
       "    }\n",
       "\n",
       "    .dataframe thead th {\n",
       "        text-align: right;\n",
       "    }\n",
       "</style>\n",
       "<table border=\"1\" class=\"dataframe\">\n",
       "  <thead>\n",
       "    <tr style=\"text-align: right;\">\n",
       "      <th></th>\n",
       "      <th>order_id</th>\n",
       "      <th>product_id</th>\n",
       "      <th>product_description</th>\n",
       "      <th>product_price</th>\n",
       "      <th>product_vat_rate</th>\n",
       "      <th>discount_rate</th>\n",
       "      <th>quantity</th>\n",
       "      <th>full_price_amount</th>\n",
       "      <th>discounted_amount</th>\n",
       "      <th>vat_amount</th>\n",
       "      <th>total_amount</th>\n",
       "      <th>id</th>\n",
       "      <th>created_at</th>\n",
       "      <th>vendor_id</th>\n",
       "      <th>customer_id</th>\n",
       "    </tr>\n",
       "  </thead>\n",
       "  <tbody>\n",
       "    <tr>\n",
       "      <th>0</th>\n",
       "      <td>2</td>\n",
       "      <td>794</td>\n",
       "      <td>IBM 032</td>\n",
       "      <td>21873</td>\n",
       "      <td>0.11</td>\n",
       "      <td>0.000000</td>\n",
       "      <td>49</td>\n",
       "      <td>1071777</td>\n",
       "      <td>1.071777e+06</td>\n",
       "      <td>117895.470000</td>\n",
       "      <td>1.189672e+06</td>\n",
       "      <td>2.0</td>\n",
       "      <td>2019-08-01 18:43:57.052767</td>\n",
       "      <td>3.0</td>\n",
       "      <td>1398.0</td>\n",
       "    </tr>\n",
       "    <tr>\n",
       "      <th>1</th>\n",
       "      <td>2</td>\n",
       "      <td>780</td>\n",
       "      <td>IBM 003</td>\n",
       "      <td>94046</td>\n",
       "      <td>0.20</td>\n",
       "      <td>0.761293</td>\n",
       "      <td>29</td>\n",
       "      <td>2727334</td>\n",
       "      <td>6.510325e+05</td>\n",
       "      <td>130206.500079</td>\n",
       "      <td>7.812390e+05</td>\n",
       "      <td>3.0</td>\n",
       "      <td>2019-08-01 11:51:07.349383</td>\n",
       "      <td>2.0</td>\n",
       "      <td>7449.0</td>\n",
       "    </tr>\n",
       "    <tr>\n",
       "      <th>2</th>\n",
       "      <td>2</td>\n",
       "      <td>521</td>\n",
       "      <td>Deskjet 995c / 995ck</td>\n",
       "      <td>47082</td>\n",
       "      <td>0.11</td>\n",
       "      <td>0.000000</td>\n",
       "      <td>20</td>\n",
       "      <td>941640</td>\n",
       "      <td>9.416400e+05</td>\n",
       "      <td>103580.400000</td>\n",
       "      <td>1.045220e+06</td>\n",
       "      <td>4.0</td>\n",
       "      <td>2019-08-01 15:26:46.084807</td>\n",
       "      <td>5.0</td>\n",
       "      <td>7082.0</td>\n",
       "    </tr>\n",
       "    <tr>\n",
       "      <th>3</th>\n",
       "      <td>2</td>\n",
       "      <td>835</td>\n",
       "      <td>A388C (Accompli 388)</td>\n",
       "      <td>55162</td>\n",
       "      <td>0.00</td>\n",
       "      <td>0.000000</td>\n",
       "      <td>50</td>\n",
       "      <td>2758100</td>\n",
       "      <td>2.758100e+06</td>\n",
       "      <td>0.000000</td>\n",
       "      <td>2.758100e+06</td>\n",
       "      <td>5.0</td>\n",
       "      <td>2019-08-01 03:34:05.665990</td>\n",
       "      <td>5.0</td>\n",
       "      <td>5727.0</td>\n",
       "    </tr>\n",
       "    <tr>\n",
       "      <th>4</th>\n",
       "      <td>2</td>\n",
       "      <td>580</td>\n",
       "      <td>Officejet 330</td>\n",
       "      <td>15927</td>\n",
       "      <td>0.11</td>\n",
       "      <td>0.000000</td>\n",
       "      <td>46</td>\n",
       "      <td>732642</td>\n",
       "      <td>7.326420e+05</td>\n",
       "      <td>80590.620000</td>\n",
       "      <td>8.132326e+05</td>\n",
       "      <td>6.0</td>\n",
       "      <td>2019-08-01 16:30:57.126590</td>\n",
       "      <td>5.0</td>\n",
       "      <td>5281.0</td>\n",
       "    </tr>\n",
       "  </tbody>\n",
       "</table>\n",
       "</div>"
      ],
      "text/plain": [
       "   order_id  product_id   product_description  product_price  \\\n",
       "0         2         794               IBM 032          21873   \n",
       "1         2         780               IBM 003          94046   \n",
       "2         2         521  Deskjet 995c / 995ck          47082   \n",
       "3         2         835  A388C (Accompli 388)          55162   \n",
       "4         2         580         Officejet 330          15927   \n",
       "\n",
       "   product_vat_rate  discount_rate  quantity  full_price_amount  \\\n",
       "0              0.11       0.000000        49            1071777   \n",
       "1              0.20       0.761293        29            2727334   \n",
       "2              0.11       0.000000        20             941640   \n",
       "3              0.00       0.000000        50            2758100   \n",
       "4              0.11       0.000000        46             732642   \n",
       "\n",
       "   discounted_amount     vat_amount  total_amount   id  \\\n",
       "0       1.071777e+06  117895.470000  1.189672e+06  2.0   \n",
       "1       6.510325e+05  130206.500079  7.812390e+05  3.0   \n",
       "2       9.416400e+05  103580.400000  1.045220e+06  4.0   \n",
       "3       2.758100e+06       0.000000  2.758100e+06  5.0   \n",
       "4       7.326420e+05   80590.620000  8.132326e+05  6.0   \n",
       "\n",
       "                   created_at  vendor_id  customer_id  \n",
       "0  2019-08-01 18:43:57.052767        3.0       1398.0  \n",
       "1  2019-08-01 11:51:07.349383        2.0       7449.0  \n",
       "2  2019-08-01 15:26:46.084807        5.0       7082.0  \n",
       "3  2019-08-01 03:34:05.665990        5.0       5727.0  \n",
       "4  2019-08-01 16:30:57.126590        5.0       5281.0  "
      ]
     },
     "execution_count": 19,
     "metadata": {},
     "output_type": "execute_result"
    }
   ],
   "source": [
    "merged_order_and_item.head()\n"
   ]
  }
 ],
 "metadata": {
  "kernelspec": {
   "display_name": "Python 3",
   "language": "python",
   "name": "python3"
  },
  "language_info": {
   "codemirror_mode": {
    "name": "ipython",
    "version": 3
   },
   "file_extension": ".py",
   "mimetype": "text/x-python",
   "name": "python",
   "nbconvert_exporter": "python",
   "pygments_lexer": "ipython3",
   "version": "3.8.2"
  },
  "pycharm": {
   "stem_cell": {
    "cell_type": "raw",
    "metadata": {
     "collapsed": false
    },
    "source": []
   }
  },
  "toc": {
   "base_numbering": 1,
   "nav_menu": {},
   "number_sections": true,
   "sideBar": true,
   "skip_h1_title": false,
   "title_cell": "Table of Contents",
   "title_sidebar": "Contents",
   "toc_cell": false,
   "toc_position": {},
   "toc_section_display": true,
   "toc_window_display": false
  }
 },
 "nbformat": 4,
 "nbformat_minor": 1
}
